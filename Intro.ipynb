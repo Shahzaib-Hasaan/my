{
 "cells": [
  {
   "cell_type": "markdown",
   "metadata": {},
   "source": [
    "Imagine you have a super organized folder for your work. Every time you make a change, you save a new copy of the file with a number, like \"Document_v1,\" \"Document_v2,\" and so on. That's basically version control!\n",
    "Here's how it works:\n",
    "1. Take a Snapshot: You \"take a snapshot\" of your work - it's like saving a copy, but fancy. No overwriting old versions!\n",
    "2. Label it: Give your snapshot a nickname, like \"Added intro paragraph\" or \"Fixed typo on page 3.\"\n",
    "3. Track the History: All your snapshots line up neatly, showing how your work evolved over time.\n",
    "4. Go Back in Time: Need to fix something in an earlier version? No problem! Just pop back to that snapshot and edit it.\n",
    "5. Share with Others: Working with friends? You can give them access to your organized folder, so everyone sees the latest changes and no one messes up each other's work. <br>\n",
    "\n",
    "\n",
    "That's the basic idea! Version control isn't scary, it's like having a superpower to manage your work. It helps you avoid disasters, collaborate easily, and even explore different ideas without making permanent messes.\n"
   ]
  },
  {
   "cell_type": "markdown",
   "metadata": {},
   "source": [
    "# Setup"
   ]
  },
  {
   "cell_type": "markdown",
   "metadata": {},
   "source": [
    "Claim your contributions\n",
    "- `git config −−global user.name “[firstname lastname]\"`\n",
    "- `git config --global user.email “[valid-email]\"` "
   ]
  },
  {
   "cell_type": "markdown",
   "metadata": {},
   "source": [
    "# Creating Repository"
   ]
  },
  {
   "cell_type": "markdown",
   "metadata": {},
   "source": [
    "There are 2 ways to create a repository\n",
    "- `git init` Create a new local repository\n",
    "- `git clone [url]` Clone a repository that already exists on GitHub. (Will be covered later when we talk about GitHub)"
   ]
  },
  {
   "cell_type": "markdown",
   "metadata": {},
   "source": [
    "# Some Command Line Commands \n",
    "These are some basic cmd commands to get you started with git\n",
    "- `cd [folder]` Change directory\n",
    "- `dir` List directory (Windows)\n",
    "- 'cd' Display path to current working folder (Windows)\n",
    "- `mkdir` Make directory\n",
    "- `echo. > [filename]` Create a file\n",
    "- `echo [text] >> [filename]` Add text to a file\n",
    "- 'cls' Clear the terminal (Windows)\n"
   ]
  },
  {
   "cell_type": "markdown",
   "metadata": {},
   "source": [
    "# Git Basics\n",
    "These are the basic commands to get started with git\n",
    "- `git status` Check status of the repository\n",
    "- `git add [file]` Add a file to the staging area\n",
    "- `git add .` Add all files to the staging area\n",
    "- `git commit -m \"[message]\"` Commit changes to the repository with a message (message is mandatory) \n",
    "- `git log` View commit history\n",
    "- `git reset [file]` Unstage a file\n",
    "- `git checkout -- [file]` Discard changes made to the file \n",
    "- `git stash` Stash changes made to the file\n",
    "- `git stash pop` Apply stashed changes to the file\n",
    "- `git stash list` View stashed changes\n",
    "- `git stash drop` Delete stashed changes"
   ]
  }
 ],
 "metadata": {
  "language_info": {
   "name": "python"
  }
 },
 "nbformat": 4,
 "nbformat_minor": 2
}
